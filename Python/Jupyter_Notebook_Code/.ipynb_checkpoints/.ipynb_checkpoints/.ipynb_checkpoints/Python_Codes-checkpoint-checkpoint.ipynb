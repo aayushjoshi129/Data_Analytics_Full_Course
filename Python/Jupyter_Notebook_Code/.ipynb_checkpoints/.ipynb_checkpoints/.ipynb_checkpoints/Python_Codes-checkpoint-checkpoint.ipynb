{
 "cells": [
  {
   "cell_type": "code",
   "execution_count": 1,
   "id": "e2974a11-8f58-42c7-bacd-51603555a795",
   "metadata": {},
   "outputs": [
    {
     "name": "stdout",
     "output_type": "stream",
     "text": [
      "Hello World\n"
     ]
    }
   ],
   "source": [
    "print(\"Hello World\")"
   ]
  },
  {
   "cell_type": "code",
   "execution_count": 2,
   "id": "0e68c5ac-a286-4a69-ba69-f0045ac24743",
   "metadata": {},
   "outputs": [
    {
     "name": "stdout",
     "output_type": "stream",
     "text": [
      "Aayush has unlimited lovers.\n"
     ]
    }
   ],
   "source": [
    "name = 'Aayush'\n",
    "lovers = 'unlimited'\n",
    "print(name + ' has ' + lovers + ' lovers.')"
   ]
  }
 ],
 "metadata": {
  "kernelspec": {
   "display_name": "Python 3 (ipykernel)",
   "language": "python",
   "name": "python3"
  },
  "language_info": {
   "codemirror_mode": {
    "name": "ipython",
    "version": 3
   },
   "file_extension": ".py",
   "mimetype": "text/x-python",
   "name": "python",
   "nbconvert_exporter": "python",
   "pygments_lexer": "ipython3",
   "version": "3.12.1"
  }
 },
 "nbformat": 4,
 "nbformat_minor": 5
}
