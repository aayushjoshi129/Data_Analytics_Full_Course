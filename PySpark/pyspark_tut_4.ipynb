{
 "cells": [
  {
   "cell_type": "markdown",
   "metadata": {},
   "source": [
    "### Pyspark Dataframes\n",
    "1) Filter Operation\n",
    "2) &,|,==\n",
    "3) ~"
   ]
  },
  {
   "cell_type": "code",
   "execution_count": 1,
   "metadata": {},
   "outputs": [],
   "source": [
    "from pyspark.sql import SparkSession"
   ]
  },
  {
   "cell_type": "code",
   "execution_count": 2,
   "metadata": {},
   "outputs": [],
   "source": [
    "spark = SparkSession.builder.appName('Tutorial_4').getOrCreate()"
   ]
  },
  {
   "cell_type": "code",
   "execution_count": 3,
   "metadata": {},
   "outputs": [
    {
     "data": {
      "text/html": [
       "\n",
       "            <div>\n",
       "                <p><b>SparkSession - in-memory</b></p>\n",
       "                \n",
       "        <div>\n",
       "            <p><b>SparkContext</b></p>\n",
       "\n",
       "            <p><a href=\"http://localhost:4043\">Spark UI</a></p>\n",
       "\n",
       "            <dl>\n",
       "              <dt>Version</dt>\n",
       "                <dd><code>v3.5.5</code></dd>\n",
       "              <dt>Master</dt>\n",
       "                <dd><code>local[*]</code></dd>\n",
       "              <dt>AppName</dt>\n",
       "                <dd><code>Tutorial_4</code></dd>\n",
       "            </dl>\n",
       "        </div>\n",
       "        \n",
       "            </div>\n",
       "        "
      ],
      "text/plain": [
       "<pyspark.sql.session.SparkSession at 0x2825009c800>"
      ]
     },
     "execution_count": 3,
     "metadata": {},
     "output_type": "execute_result"
    }
   ],
   "source": [
    "spark"
   ]
  },
  {
   "cell_type": "code",
   "execution_count": 7,
   "metadata": {},
   "outputs": [],
   "source": [
    "df_spark = spark.read.csv('DataSet2.csv', header=True, inferSchema=True)"
   ]
  },
  {
   "cell_type": "code",
   "execution_count": 8,
   "metadata": {},
   "outputs": [
    {
     "name": "stdout",
     "output_type": "stream",
     "text": [
      "+-------+----+----------+------+\n",
      "|   Name| Age|Experience|Salary|\n",
      "+-------+----+----------+------+\n",
      "| Aayush|  24|         3| 25000|\n",
      "| Tripti|  22|         1| 20000|\n",
      "| Aditya|  25|         3| 30000|\n",
      "| Shivam|  25|         1| 30000|\n",
      "| Ashish|  25|         3| 28000|\n",
      "| Naincy|  25|         2| 32000|\n",
      "|Vaibhav|  26|         2| 35000|\n",
      "| Preeti|  26|         5| 40000|\n",
      "|Suruchi|  29|      NULL| 70000|\n",
      "| Chirag|  26|         4| 90000|\n",
      "| Anurag|NULL|        15|110000|\n",
      "|   NULL|  34|      NULL|  NULL|\n",
      "|   NULL|  36|      NULL|  NULL|\n",
      "+-------+----+----------+------+\n",
      "\n"
     ]
    }
   ],
   "source": [
    "df_spark.show()"
   ]
  },
  {
   "cell_type": "code",
   "execution_count": 10,
   "metadata": {},
   "outputs": [
    {
     "name": "stdout",
     "output_type": "stream",
     "text": [
      "+-------+---+----------+------+\n",
      "|   Name|Age|Experience|Salary|\n",
      "+-------+---+----------+------+\n",
      "| Aayush| 24|         3| 25000|\n",
      "| Tripti| 22|         1| 20000|\n",
      "| Aditya| 25|         3| 30000|\n",
      "| Shivam| 25|         1| 30000|\n",
      "| Ashish| 25|         3| 28000|\n",
      "| Naincy| 25|         2| 32000|\n",
      "|Vaibhav| 26|         2| 35000|\n",
      "| Preeti| 26|         5| 40000|\n",
      "| Chirag| 26|         4| 90000|\n",
      "+-------+---+----------+------+\n",
      "\n"
     ]
    }
   ],
   "source": [
    "df_spark = df_spark.dropna()\n",
    "df_spark.show()"
   ]
  },
  {
   "cell_type": "markdown",
   "metadata": {},
   "source": [
    "#### FILTER OPERATIONS"
   ]
  },
  {
   "cell_type": "code",
   "execution_count": null,
   "metadata": {},
   "outputs": [
    {
     "name": "stdout",
     "output_type": "stream",
     "text": [
      "+------+---+----------+------+\n",
      "|  Name|Age|Experience|Salary|\n",
      "+------+---+----------+------+\n",
      "|Aayush| 24|         3| 25000|\n",
      "|Tripti| 22|         1| 20000|\n",
      "|Ashish| 25|         3| 28000|\n",
      "+------+---+----------+------+\n",
      "\n"
     ]
    }
   ],
   "source": [
    "# Salary of People less than 31000\n",
    "df_spark.filter('Salary<31000').show()\n",
    "# df_spark.where('Salary<31000').show()  # Where is just an alias of filter\n",
    "# df_spark.filter('Salary<31000').select(['Name', 'Age']).show()"
   ]
  },
  {
   "cell_type": "code",
   "execution_count": 32,
   "metadata": {},
   "outputs": [
    {
     "name": "stdout",
     "output_type": "stream",
     "text": [
      "+------+---+----------+------+\n",
      "|  Name|Age|Experience|Salary|\n",
      "+------+---+----------+------+\n",
      "|Aayush| 24|         3| 25000|\n",
      "|Tripti| 22|         1| 20000|\n",
      "|Aditya| 25|         3| 30000|\n",
      "|Shivam| 25|         1| 30000|\n",
      "|Ashish| 25|         3| 28000|\n",
      "+------+---+----------+------+\n",
      "\n"
     ]
    }
   ],
   "source": [
    "# df_spark.filter('Salary<31000' and 'Age<26').show()\n",
    "df_spark.filter('Salary<31000' or 'Age<26').show()"
   ]
  },
  {
   "cell_type": "code",
   "execution_count": 40,
   "metadata": {},
   "outputs": [
    {
     "name": "stdout",
     "output_type": "stream",
     "text": [
      "+-------+---+----------+------+\n",
      "|   Name|Age|Experience|Salary|\n",
      "+-------+---+----------+------+\n",
      "| Naincy| 25|         2| 32000|\n",
      "|Vaibhav| 26|         2| 35000|\n",
      "| Preeti| 26|         5| 40000|\n",
      "| Chirag| 26|         4| 90000|\n",
      "+-------+---+----------+------+\n",
      "\n"
     ]
    }
   ],
   "source": [
    "# not condition or inverse condition\n",
    "df_spark.filter(~(df_spark['Salary']<31000)).show()\n"
   ]
  },
  {
   "cell_type": "code",
   "execution_count": null,
   "metadata": {},
   "outputs": [],
   "source": []
  }
 ],
 "metadata": {
  "kernelspec": {
   "display_name": "Python 3",
   "language": "python",
   "name": "python3"
  },
  "language_info": {
   "codemirror_mode": {
    "name": "ipython",
    "version": 3
   },
   "file_extension": ".py",
   "mimetype": "text/x-python",
   "name": "python",
   "nbconvert_exporter": "python",
   "pygments_lexer": "ipython3",
   "version": "3.12.1"
  }
 },
 "nbformat": 4,
 "nbformat_minor": 2
}
